{
 "cells": [
  {
   "cell_type": "markdown",
   "metadata": {},
   "source": [
    "# Traffic Sign Classification with Keras\n",
    "\n",
    "Keras exists to make coding deep neural networks simpler. To demonstrate just how easy it is, you’re going to use Keras to build a convolutional neural network in a few dozen lines of code.\n",
    "\n",
    "You’ll be connecting the concepts from the previous lessons to the methods that Keras provides."
   ]
  },
  {
   "cell_type": "markdown",
   "metadata": {},
   "source": [
    "## Dataset\n",
    "\n",
    "The network you'll build with Keras is similar to the example that you can find in Keras’s GitHub repository that builds out a [convolutional neural network for MNIST](https://github.com/fchollet/keras/blob/master/examples/mnist_cnn.py). \n",
    "\n",
    "However, instead of using the [MNIST](http://yann.lecun.com/exdb/mnist/) dataset, you're going to use the [German Traffic Sign Recognition Benchmark](http://benchmark.ini.rub.de/?section=gtsrb&subsection=news) dataset that you've used previously.\n",
    "\n",
    "You can download pickle files with sanitized traffic sign data here."
   ]
  },
  {
   "cell_type": "markdown",
   "metadata": {},
   "source": [
    "## Overview\n",
    "\n",
    "Here are the steps you'll take to build the network:\n",
    "\n",
    "1. First load the data.\n",
    "2. Build a feedforward neural network to classify traffic signs.\n",
    "3. Build a convolutional neural network to classify traffic signs.\n",
    "\n",
    "Keep an eye on the network’s accuracy over time. Once the accuracy reaches the 98% range, you can be confident that you’ve built and trained an effective model."
   ]
  },
  {
   "cell_type": "markdown",
   "metadata": {},
   "source": [
    "## Load the Data\n",
    "\n",
    "Start by importing the data from the pickle file."
   ]
  },
  {
   "cell_type": "code",
   "execution_count": 1,
   "metadata": {
    "collapsed": true
   },
   "outputs": [],
   "source": [
    "import pickle\n"
   ]
  },
  {
   "cell_type": "code",
   "execution_count": 2,
   "metadata": {
    "collapsed": false
   },
   "outputs": [],
   "source": [
    "# TODO: Implement load the data here.\n",
    "training_file = 'train.p'\n",
    "testing_file = 'test.p'\n",
    "\n",
    "with open(training_file, mode='rb') as f:\n",
    "    train = pickle.load(f)\n",
    "with open(testing_file, mode='rb') as f:\n",
    "    test = pickle.load(f)\n",
    "X_train, y_train = train['features'], train['labels']\n",
    "X_test, y_test = test['features'], test['labels']\n",
    "\n",
    "    \n",
    "# STOP: Do not change the tests below. Your implementation should pass these tests. \n",
    "assert(X_train.shape[0] == y_train.shape[0]), \"The number of images is not equal to the number of labels.\"\n",
    "assert(X_train.shape[1:] == (32,32,3)), \"The dimensions of the images are not 32 x 32 x 3.\""
   ]
  },
  {
   "cell_type": "markdown",
   "metadata": {},
   "source": [
    "## Normalize the data\n",
    "\n",
    "Now that you've loaded the training data, normalize the input so that it has a mean of 0 and a range between -0.5 and 0.5."
   ]
  },
  {
   "cell_type": "code",
   "execution_count": 3,
   "metadata": {
    "collapsed": true
   },
   "outputs": [],
   "source": [
    "import numpy as np\n",
    "def normalize(data):\n",
    "    a = -0.5\n",
    "    b = 0.5\n",
    "    \n",
    "    data = data - data.mean(axis=0)\n",
    "    \n",
    "    xmin = np.min(data)\n",
    "    ymin = np.max(data)\n",
    "        \n",
    "#     data = data / np.max(data)\n",
    "    result  = a + ((data - xmin) / (ymin-xmin)) * (b-a) \n",
    "\n",
    "    return result"
   ]
  },
  {
   "cell_type": "code",
   "execution_count": 4,
   "metadata": {
    "collapsed": false
   },
   "outputs": [],
   "source": [
    "# TODO: Implement data normalization here.\n",
    "from sklearn import preprocessing\n",
    "X_train = normalize(X_train)\n",
    "X_test = normalize(X_test)\n",
    "\n",
    "# STOP: Do not change the tests below. Your implementation should pass these tests. \n",
    "assert(round(np.mean(X_train)) == 0), \"The mean of the input data is: %f\" % np.mean(X_train)\n",
    "assert(np.min(X_train) == -0.5 and np.max(X_train) == 0.5), \"The range of the input data is: %.1f to %.1f\" % (np.min(X_train), np.max(X_train))"
   ]
  },
  {
   "cell_type": "markdown",
   "metadata": {},
   "source": [
    "## Build a Two-Layer Feedfoward Network\n",
    "\n",
    "The code you've written so far is for data processing, not specific to Keras. Here you're going to build Keras-specific code.\n",
    "\n",
    "Build a two-layer feedforward neural network, with 128 neurons in the fully-connected hidden layer. \n",
    "\n",
    "To get started, review the Keras documentation about [models](https://keras.io/models/sequential/) and [layers](https://keras.io/layers/core/).\n",
    "\n",
    "The Keras example of a [Multi-Layer Perceptron](https://github.com/fchollet/keras/blob/master/examples/mnist_mlp.py) network is similar to what you need to do here. Use that as a guide, but keep in mind that there are a number of differences."
   ]
  },
  {
   "cell_type": "code",
   "execution_count": 5,
   "metadata": {
    "collapsed": false,
    "scrolled": false
   },
   "outputs": [
    {
     "name": "stderr",
     "output_type": "stream",
     "text": [
      "Using TensorFlow backend.\n"
     ]
    }
   ],
   "source": [
    "from keras.models import Sequential\n",
    "from keras.layers import Dense, Activation\n"
   ]
  },
  {
   "cell_type": "code",
   "execution_count": 6,
   "metadata": {
    "collapsed": false,
    "scrolled": true
   },
   "outputs": [],
   "source": [
    "#model for the quiz\n",
    "model = Sequential()\n",
    "model.add(Dense(128, input_dim=3072,activation=\"relu\",name=\"hidden1\"))\n",
    "model.add(Dense(43,activation=\"softmax\",name=\"output\"))\n"
   ]
  },
  {
   "cell_type": "code",
   "execution_count": 7,
   "metadata": {
    "collapsed": false
   },
   "outputs": [
    {
     "name": "stdout",
     "output_type": "stream",
     "text": [
      "<keras.layers.core.Dense object at 0x7fb9ef056ef0>\n"
     ]
    }
   ],
   "source": [
    "print(model.get_layer(name=\"hidden1\"))"
   ]
  },
  {
   "cell_type": "code",
   "execution_count": 8,
   "metadata": {
    "collapsed": false
   },
   "outputs": [],
   "source": [
    "# TODO: Build a two-layer feedforward neural network with Keras here.\n",
    "\n",
    "\n",
    "# STOP: Do not change the tests below. Your implementation should pass these tests.\n",
    "assert(model.get_layer(name=\"hidden1\").input_shape == (None, 32*32*3)), \"The input shape is: %s\" % model.get_layer(name=\"hidden1\").input_shape\n",
    "assert(model.get_layer(name=\"output\").output_shape == (None, 43)), \"The output shape is: %s\" % model.get_layer(name=\"output\").output_shape "
   ]
  },
  {
   "cell_type": "markdown",
   "metadata": {},
   "source": [
    "## Train the Network\n",
    "Compile and train the network for 2 epochs. [Use the `adam` optimizer, with `categorical_crossentropy` loss.](https://keras.io/models/sequential/)\n",
    "\n",
    "Hint 1: In order to use categorical cross entropy, you will need to [one-hot encode the labels](https://github.com/fchollet/keras/blob/master/keras/utils/np_utils.py).\n",
    "\n",
    "Hint 2: In order to pass the input images to the fully-connected hidden layer, you will need to [reshape the input](https://github.com/fchollet/keras/blob/master/examples/mnist_mlp.py).\n",
    "\n",
    "Hint 3: Keras's `.fit()` method returns a `History.history` object, which the tests below use. Save that to a variable named `history`."
   ]
  },
  {
   "cell_type": "code",
   "execution_count": 9,
   "metadata": {
    "collapsed": false
   },
   "outputs": [],
   "source": [
    "import keras\n",
    "K_adam_opt = keras.optimizers.Adam(lr=0.0005, beta_1=0.9, beta_2=0.999, epsilon=1e-08, decay=0.0)\n",
    "model.compile(optimizer=K_adam_opt, loss=\"categorical_crossentropy\",metrics=[\"accuracy\"])"
   ]
  },
  {
   "cell_type": "code",
   "execution_count": 10,
   "metadata": {
    "collapsed": false
   },
   "outputs": [
    {
     "name": "stdout",
     "output_type": "stream",
     "text": [
      "(39209, 32, 32, 3)\n",
      "(39209, 3072)\n"
     ]
    }
   ],
   "source": [
    "#reshape the input \n",
    "print(X_train.shape)\n",
    "input_size = 32*32*3\n",
    "X_train_flat = X_train.reshape((-1,32*32*3))\n",
    "print(X_train_flat.shape)\n",
    "X_test_flat = X_test.reshape((-1,32*32*3))"
   ]
  },
  {
   "cell_type": "code",
   "execution_count": 11,
   "metadata": {
    "collapsed": false
   },
   "outputs": [
    {
     "name": "stdout",
     "output_type": "stream",
     "text": [
      "[ 1.  0.  0.  0.  0.  0.  0.  0.  0.  0.  0.  0.  0.  0.  0.  0.  0.  0.\n",
      "  0.  0.  0.  0.  0.  0.  0.  0.  0.  0.  0.  0.  0.  0.  0.  0.  0.  0.\n",
      "  0.  0.  0.  0.  0.  0.  0.]\n"
     ]
    }
   ],
   "source": [
    "#convert to one hot\n",
    "from keras.utils.np_utils import to_categorical\n",
    "y_train_onehot = to_categorical(y_train,43)\n",
    "y_test_onehot = to_categorical(y_test,43)\n",
    "print(y_train_onehot[1])"
   ]
  },
  {
   "cell_type": "code",
   "execution_count": 12,
   "metadata": {
    "collapsed": false
   },
   "outputs": [
    {
     "name": "stdout",
     "output_type": "stream",
     "text": [
      "Epoch 1/2\n",
      "39209/39209 [==============================] - 2s - loss: 1.7956 - acc: 0.5420     \n",
      "Epoch 2/2\n",
      "39209/39209 [==============================] - 2s - loss: 0.8760 - acc: 0.7787     \n"
     ]
    }
   ],
   "source": [
    "# TODO: Compile and train the model here.\n",
    "history = model.fit(X_train_flat, y_train_onehot, nb_epoch=2, batch_size=64 )\n",
    "\n",
    "# STOP: Do not change the tests below. Your implementation should pass these tests.\n",
    "assert(history.history['acc'][0] > 0.5), \"The training accuracy was: %.3f\" % history.history['acc'][0]"
   ]
  },
  {
   "cell_type": "markdown",
   "metadata": {},
   "source": [
    "## Validate the Network\n",
    "Split the training data into a training and validation set.\n",
    "\n",
    "Measure the [validation accuracy](https://keras.io/models/sequential/) of the network after two training epochs.\n",
    "\n",
    "Hint: [Use the `train_test_split()` method](http://scikit-learn.org/stable/modules/generated/sklearn.model_selection.train_test_split.html) from scikit-learn."
   ]
  },
  {
   "cell_type": "code",
   "execution_count": 13,
   "metadata": {
    "collapsed": true
   },
   "outputs": [],
   "source": [
    "# TODO: Split some of the training data into a validation dataset.\n",
    "# TODO: Compile and train the model to measure validation accuracy.\n",
    "from sklearn.model_selection import train_test_split\n",
    "X_train, X_val, y_train, y_val = train_test_split(X_train_flat, y_train_onehot, test_size=0.25, random_state=24)\n"
   ]
  },
  {
   "cell_type": "code",
   "execution_count": 14,
   "metadata": {
    "collapsed": false
   },
   "outputs": [
    {
     "name": "stdout",
     "output_type": "stream",
     "text": [
      "(29406, 3072)\n",
      "(29406, 43)\n",
      "(9803, 3072)\n"
     ]
    }
   ],
   "source": [
    "print(X_train.shape)\n",
    "print(y_train.shape)\n",
    "print(X_val.shape)\n"
   ]
  },
  {
   "cell_type": "code",
   "execution_count": 15,
   "metadata": {
    "collapsed": false
   },
   "outputs": [
    {
     "name": "stdout",
     "output_type": "stream",
     "text": [
      "Train on 29406 samples, validate on 9803 samples\n",
      "Epoch 1/2\n",
      "29406/29406 [==============================] - 0s - loss: 0.7193 - acc: 0.8276 - val_loss: 0.7046 - val_acc: 0.8432\n",
      "Epoch 2/2\n",
      "29406/29406 [==============================] - 0s - loss: 0.6803 - acc: 0.8455 - val_loss: 0.6737 - val_acc: 0.8481\n",
      "0.84321141243\n"
     ]
    }
   ],
   "source": [
    "\n",
    "history = model.fit(X_train,y_train, nb_epoch=2, batch_size=10000 ,validation_data=(X_val,y_val))\n",
    "print(history.history['val_acc'][0])\n",
    "# STOP: Do not change the tests below. Your implementation should pass these tests.\n",
    "assert(round(X_train.shape[0] / float(X_val.shape[0])) == 3), \"The training set is %.3f times larger than the validation set.\" % (X_train.shape[0] / float(X_val.shape[0]))\n",
    "assert(history.history['val_acc'][0] > 0.6), \"The validation accuracy is: %.3f\" % history.history['val_acc'][0]"
   ]
  },
  {
   "cell_type": "markdown",
   "metadata": {},
   "source": [
    "**Validation Accuracy**: 0.82750"
   ]
  },
  {
   "cell_type": "markdown",
   "metadata": {},
   "source": [
    "## Congratulations\n",
    "You've built a feedforward neural network in Keras!\n",
    "\n",
    "Don't stop here! Next, you'll add a convolutional layer to drive.py."
   ]
  },
  {
   "cell_type": "markdown",
   "metadata": {},
   "source": [
    "## Convolutions\n",
    "Build a new network, similar to your existing network. Before the hidden layer, add a 3x3 [convolutional layer](https://keras.io/layers/convolutional/#convolution2d) with 32 filters and valid padding.\n",
    "\n",
    "Then compile and train the network.\n",
    "\n",
    "Hint 1: The Keras example of a [convolutional neural network](https://github.com/fchollet/keras/blob/master/examples/mnist_cnn.py) for MNIST would be a good example to review.\n",
    "\n",
    "Hint 2: Now that the first layer of the network is a convolutional layer, you no longer need to reshape the input images before passing them to the network. You might need to reload your training data to recover the original shape.\n",
    "\n",
    "Hint 3: Add a [`Flatten()` layer](https://keras.io/layers/core/#flatten) between the convolutional layer and the fully-connected hidden layer."
   ]
  },
  {
   "cell_type": "code",
   "execution_count": 16,
   "metadata": {
    "collapsed": false
   },
   "outputs": [
    {
     "name": "stdout",
     "output_type": "stream",
     "text": [
      "(29406, 32, 32, 3)\n",
      "(12630, 32, 32, 3)\n"
     ]
    }
   ],
   "source": [
    "from keras.layers import Convolution2D, MaxPooling2D\n",
    "from keras.layers import Dense, Dropout, Activation, Flatten\n",
    "\n",
    "\n",
    "# input image dimensions\n",
    "img_rows, img_cols, img_channels = 32, 32,3\n",
    "# number of convolutional filters to use\n",
    "nb_filters = 32\n",
    "# size of pooling area for max pooling\n",
    "pool_size = (2, 2)\n",
    "# convolution kernel size\n",
    "kernel_size = (3, 3)\n",
    "\n",
    "input_shape = input_shape = (img_rows, img_cols, img_channels)\n",
    "\n",
    "#reshape the data\n",
    "X_train = X_train.reshape(29406,32,32,3)\n",
    "X_train = X_train.astype('float32')\n",
    "X_val = X_val.reshape(X_val.shape[0], img_rows, img_cols, img_channels)\n",
    "X_test = X_test.astype('float32')\n",
    "print(X_train.shape)\n",
    "print(X_test.shape)\n",
    "model = Sequential()\n",
    "\n",
    "model.add(Convolution2D(nb_filters, kernel_size[0], kernel_size[1],\n",
    "                        border_mode='valid',\n",
    "                        input_shape=input_shape))\n",
    "model.add(Flatten())\n",
    "model.add(Dense(128, input_dim=3072,activation=\"relu\",name=\"hidden1\"))\n",
    "model.add(Dense(43,activation=\"softmax\",name=\"output\"))\n"
   ]
  },
  {
   "cell_type": "code",
   "execution_count": 17,
   "metadata": {
    "collapsed": false,
    "scrolled": true
   },
   "outputs": [
    {
     "name": "stdout",
     "output_type": "stream",
     "text": [
      "Train on 29406 samples, validate on 9803 samples\n",
      "Epoch 1/2\n",
      "29406/29406 [==============================] - 5s - loss: 0.9855 - acc: 0.7475 - val_loss: 0.3902 - val_acc: 0.9026\n",
      "Epoch 2/2\n",
      "29406/29406 [==============================] - 5s - loss: 0.2445 - acc: 0.9419 - val_loss: 0.2411 - val_acc: 0.9423\n",
      "[0.90258084259920435, 0.94226257268183211]\n"
     ]
    }
   ],
   "source": [
    "## TODO: Re-construct the network and add a convolutional layer before the first fully-connected layer.\n",
    "# TODO: Compile and train the model.\n",
    "K_adam_opt = keras.optimizers.Adam(lr=0.0005, beta_1=0.9, beta_2=0.999, epsilon=1e-08, decay=0.0)\n",
    "\n",
    "model.compile(optimizer=K_adam_opt, loss=\"categorical_crossentropy\",metrics=[\"accuracy\"])\n",
    "history = model.fit(X_train,y_train, nb_epoch=2, batch_size=64 ,validation_data=(X_val,y_val))\n",
    "\n",
    "print(history.history['val_acc'])\n",
    "# STOP: Do not change the tests below. Your implementation should pass these tests.\n",
    "assert(history.history['val_acc'][0] > 0.9), \"The validation accuracy is: %.3f\" % history.history['val_acc'][0]"
   ]
  },
  {
   "cell_type": "markdown",
   "metadata": {},
   "source": [
    "**Validation Accuracy**: (fill in here)"
   ]
  },
  {
   "cell_type": "markdown",
   "metadata": {},
   "source": [
    "## Pooling\n",
    "Re-construct your network and add a 2x2 [pooling layer](https://keras.io/layers/pooling/#maxpooling2d) immediately following your convolutional layer.\n",
    "\n",
    "Then compile and train the network."
   ]
  },
  {
   "cell_type": "code",
   "execution_count": 18,
   "metadata": {
    "collapsed": false
   },
   "outputs": [],
   "source": [
    "# TODO: Re-construct the network and add a pooling layer after the convolutional layer.\n",
    "# size of pooling area for max pooling\n",
    "pool_size = (2, 2)\n",
    "\n",
    "\n",
    "model = Sequential()\n",
    "\n",
    "model.add(Convolution2D(nb_filters, kernel_size[0], kernel_size[1],\n",
    "                        border_mode='valid',\n",
    "                        input_shape=input_shape))\n",
    "model.add(MaxPooling2D(pool_size=pool_size))\n",
    "model.add(Flatten())\n",
    "model.add(Dense(128, input_dim=3072,activation=\"relu\",name=\"hidden1\"))\n",
    "model.add(Dense(43,activation=\"softmax\",name=\"output\"))"
   ]
  },
  {
   "cell_type": "code",
   "execution_count": 19,
   "metadata": {
    "collapsed": false
   },
   "outputs": [
    {
     "name": "stdout",
     "output_type": "stream",
     "text": [
      "Train on 29406 samples, validate on 9803 samples\n",
      "Epoch 1/2\n",
      "29406/29406 [==============================] - 3s - loss: 0.8696 - acc: 0.7722 - val_loss: 0.3354 - val_acc: 0.9142\n",
      "Epoch 2/2\n",
      "29406/29406 [==============================] - 3s - loss: 0.2242 - acc: 0.9498 - val_loss: 0.2076 - val_acc: 0.9551\n"
     ]
    }
   ],
   "source": [
    "# TODO: Compile and train the model.\n",
    "model.compile(optimizer=K_adam_opt, loss=\"categorical_crossentropy\",metrics=[\"accuracy\"])\n",
    "history = model.fit(X_train,y_train, nb_epoch=2, batch_size=64 ,validation_data=(X_val,y_val))\n",
    "# STOP: Do not change the tests below. Your implementation should pass these tests.\n",
    "assert(history.history['val_acc'][0] > 0.9), \"The validation accuracy is: %.3f\" % history.history['val_acc'][0]"
   ]
  },
  {
   "cell_type": "markdown",
   "metadata": {},
   "source": [
    "**Validation Accuracy**: (fill in here)"
   ]
  },
  {
   "cell_type": "markdown",
   "metadata": {},
   "source": [
    "## Dropout\n",
    "Re-construct your network and add [dropout](https://keras.io/layers/core/#dropout) after the pooling layer. Set the dropout rate to 50%."
   ]
  },
  {
   "cell_type": "code",
   "execution_count": 20,
   "metadata": {
    "collapsed": true
   },
   "outputs": [],
   "source": [
    "# TODO: Re-construct the network and add dropout after the pooling layer.\n",
    "\n",
    "model = Sequential()\n",
    "\n",
    "model.add(Convolution2D(nb_filters, kernel_size[0], kernel_size[1],\n",
    "                        border_mode='valid',\n",
    "                        input_shape=input_shape))\n",
    "model.add(MaxPooling2D(pool_size=pool_size))\n",
    "model.add(Dropout(0.5))\n",
    "model.add(Flatten())\n",
    "model.add(Dense(128, input_dim=3072,activation=\"relu\",name=\"hidden1\"))\n",
    "model.add(Dense(43,activation=\"softmax\",name=\"output\"))"
   ]
  },
  {
   "cell_type": "code",
   "execution_count": 21,
   "metadata": {
    "collapsed": false
   },
   "outputs": [
    {
     "name": "stdout",
     "output_type": "stream",
     "text": [
      "Train on 29406 samples, validate on 9803 samples\n",
      "Epoch 1/2\n",
      "29406/29406 [==============================] - 4s - loss: 0.9420 - acc: 0.7515 - val_loss: 0.3716 - val_acc: 0.9202\n",
      "Epoch 2/2\n",
      "29406/29406 [==============================] - 3s - loss: 0.2898 - acc: 0.9282 - val_loss: 0.2283 - val_acc: 0.9548\n"
     ]
    }
   ],
   "source": [
    "# TODO: Compile and train the model.\n",
    "model.compile(optimizer=K_adam_opt, loss=\"categorical_crossentropy\",metrics=[\"accuracy\"])\n",
    "history = model.fit(X_train,y_train, nb_epoch=2, batch_size=64 ,validation_data=(X_val,y_val))\n",
    "# STOP: Do not change the tests below. Your implementation should pass these tests.\n",
    "assert(history.history['val_acc'][0] > 0.9), \"The validation accuracy is: %.3f\" % history.history['val_acc'][0]"
   ]
  },
  {
   "cell_type": "markdown",
   "metadata": {
    "collapsed": true
   },
   "source": [
    "**Validation Accuracy**: 0.9478"
   ]
  },
  {
   "cell_type": "markdown",
   "metadata": {},
   "source": [
    "## Optimization\n",
    "Congratulations! You've built a neural network with convolutions, pooling, dropout, and fully-connected layers, all in just a few lines of code.\n",
    "\n",
    "Have fun with the model and see how well you can do! Add more layers, or regularization, or different padding, or batches, or more training epochs.\n",
    "\n",
    "What is the best validation accuracy you can achieve?"
   ]
  },
  {
   "cell_type": "code",
   "execution_count": 22,
   "metadata": {
    "collapsed": false
   },
   "outputs": [
    {
     "name": "stdout",
     "output_type": "stream",
     "text": [
      "Train on 29406 samples, validate on 9803 samples\n",
      "Epoch 1/50\n",
      "29406/29406 [==============================] - 4s - loss: 1.7101 - acc: 0.5115 - val_loss: 0.6173 - val_acc: 0.8568\n",
      "Epoch 2/50\n",
      "29406/29406 [==============================] - 4s - loss: 0.7475 - acc: 0.7730 - val_loss: 0.3570 - val_acc: 0.9150\n",
      "Epoch 3/50\n",
      "29406/29406 [==============================] - 4s - loss: 0.5635 - acc: 0.8278 - val_loss: 0.2605 - val_acc: 0.9466\n",
      "Epoch 4/50\n",
      "29406/29406 [==============================] - 4s - loss: 0.4784 - acc: 0.8537 - val_loss: 0.2221 - val_acc: 0.9555\n",
      "Epoch 5/50\n",
      "29406/29406 [==============================] - 4s - loss: 0.4156 - acc: 0.8741 - val_loss: 0.1825 - val_acc: 0.9610\n",
      "Epoch 6/50\n",
      "29406/29406 [==============================] - 4s - loss: 0.3705 - acc: 0.8877 - val_loss: 0.1535 - val_acc: 0.9669\n",
      "Epoch 7/50\n",
      "29406/29406 [==============================] - 4s - loss: 0.3369 - acc: 0.8970 - val_loss: 0.1465 - val_acc: 0.9706\n",
      "Epoch 8/50\n",
      "29406/29406 [==============================] - 4s - loss: 0.3134 - acc: 0.9058 - val_loss: 0.1334 - val_acc: 0.9722\n",
      "Epoch 9/50\n",
      "29406/29406 [==============================] - 4s - loss: 0.2899 - acc: 0.9118 - val_loss: 0.1246 - val_acc: 0.9762\n",
      "Epoch 10/50\n",
      "29406/29406 [==============================] - 4s - loss: 0.2826 - acc: 0.9133 - val_loss: 0.1104 - val_acc: 0.9785\n",
      "Epoch 11/50\n",
      "29406/29406 [==============================] - 4s - loss: 0.2665 - acc: 0.9201 - val_loss: 0.1064 - val_acc: 0.9786\n",
      "Epoch 12/50\n",
      "29406/29406 [==============================] - 4s - loss: 0.2500 - acc: 0.9229 - val_loss: 0.1046 - val_acc: 0.9813\n",
      "Epoch 13/50\n",
      "29406/29406 [==============================] - 4s - loss: 0.2397 - acc: 0.9286 - val_loss: 0.0939 - val_acc: 0.9814\n",
      "Epoch 14/50\n",
      "29406/29406 [==============================] - 4s - loss: 0.2401 - acc: 0.9266 - val_loss: 0.0889 - val_acc: 0.9810\n",
      "Epoch 15/50\n",
      "29406/29406 [==============================] - 4s - loss: 0.2185 - acc: 0.9332 - val_loss: 0.0822 - val_acc: 0.9830\n",
      "Epoch 16/50\n",
      "29406/29406 [==============================] - 4s - loss: 0.2140 - acc: 0.9358 - val_loss: 0.0801 - val_acc: 0.9842\n",
      "Epoch 17/50\n",
      "29406/29406 [==============================] - 4s - loss: 0.2099 - acc: 0.9379 - val_loss: 0.0785 - val_acc: 0.9843\n",
      "Epoch 18/50\n",
      "29406/29406 [==============================] - 4s - loss: 0.2051 - acc: 0.9365 - val_loss: 0.0736 - val_acc: 0.9855\n",
      "Epoch 19/50\n",
      "29406/29406 [==============================] - 4s - loss: 0.1876 - acc: 0.9404 - val_loss: 0.0714 - val_acc: 0.9845\n",
      "Epoch 20/50\n",
      "29406/29406 [==============================] - 4s - loss: 0.1924 - acc: 0.9412 - val_loss: 0.0717 - val_acc: 0.9853\n",
      "Epoch 21/50\n",
      "29406/29406 [==============================] - 4s - loss: 0.1971 - acc: 0.9405 - val_loss: 0.0711 - val_acc: 0.9861\n",
      "Epoch 22/50\n",
      "29406/29406 [==============================] - 4s - loss: 0.1837 - acc: 0.9445 - val_loss: 0.0659 - val_acc: 0.9868\n",
      "Epoch 23/50\n",
      "29406/29406 [==============================] - 4s - loss: 0.1786 - acc: 0.9464 - val_loss: 0.0669 - val_acc: 0.9861\n",
      "Epoch 24/50\n",
      "29406/29406 [==============================] - 4s - loss: 0.1734 - acc: 0.9461 - val_loss: 0.0617 - val_acc: 0.9882\n",
      "Epoch 25/50\n",
      "29406/29406 [==============================] - 4s - loss: 0.1706 - acc: 0.9477 - val_loss: 0.0606 - val_acc: 0.9882\n",
      "Epoch 26/50\n",
      "29406/29406 [==============================] - 4s - loss: 0.1685 - acc: 0.9479 - val_loss: 0.0588 - val_acc: 0.9888\n",
      "Epoch 27/50\n",
      "29406/29406 [==============================] - 4s - loss: 0.1625 - acc: 0.9494 - val_loss: 0.0619 - val_acc: 0.9874\n",
      "Epoch 28/50\n",
      "29406/29406 [==============================] - 4s - loss: 0.1605 - acc: 0.9512 - val_loss: 0.0606 - val_acc: 0.9879\n",
      "Epoch 29/50\n",
      "29406/29406 [==============================] - 4s - loss: 0.1620 - acc: 0.9512 - val_loss: 0.0564 - val_acc: 0.9894\n",
      "Epoch 30/50\n",
      "29406/29406 [==============================] - 4s - loss: 0.1546 - acc: 0.9527 - val_loss: 0.0557 - val_acc: 0.9879\n",
      "Epoch 31/50\n",
      "29406/29406 [==============================] - 4s - loss: 0.1508 - acc: 0.9526 - val_loss: 0.0571 - val_acc: 0.9866\n",
      "Epoch 32/50\n",
      "29406/29406 [==============================] - 4s - loss: 0.1470 - acc: 0.9559 - val_loss: 0.0538 - val_acc: 0.9892\n",
      "Epoch 33/50\n",
      "29406/29406 [==============================] - 4s - loss: 0.1521 - acc: 0.9540 - val_loss: 0.0532 - val_acc: 0.9888\n",
      "Epoch 34/50\n",
      "29406/29406 [==============================] - 4s - loss: 0.1522 - acc: 0.9539 - val_loss: 0.0511 - val_acc: 0.9898\n",
      "Epoch 35/50\n",
      "29406/29406 [==============================] - 4s - loss: 0.1463 - acc: 0.9540 - val_loss: 0.0514 - val_acc: 0.9900\n",
      "Epoch 36/50\n",
      "29406/29406 [==============================] - 4s - loss: 0.1409 - acc: 0.9572 - val_loss: 0.0490 - val_acc: 0.9900\n",
      "Epoch 37/50\n",
      "29406/29406 [==============================] - 4s - loss: 0.1402 - acc: 0.9577 - val_loss: 0.0487 - val_acc: 0.9898\n",
      "Epoch 38/50\n",
      "29406/29406 [==============================] - 4s - loss: 0.1441 - acc: 0.9566 - val_loss: 0.0516 - val_acc: 0.9891\n",
      "Epoch 39/50\n",
      "29406/29406 [==============================] - 4s - loss: 0.1386 - acc: 0.9588 - val_loss: 0.0455 - val_acc: 0.9906\n",
      "Epoch 40/50\n",
      "29406/29406 [==============================] - 4s - loss: 0.1397 - acc: 0.9566 - val_loss: 0.0472 - val_acc: 0.9906\n",
      "Epoch 41/50\n",
      "29406/29406 [==============================] - 4s - loss: 0.1339 - acc: 0.9585 - val_loss: 0.0469 - val_acc: 0.9904\n",
      "Epoch 42/50\n",
      "29406/29406 [==============================] - 4s - loss: 0.1288 - acc: 0.9620 - val_loss: 0.0467 - val_acc: 0.9906\n",
      "Epoch 43/50\n",
      "29406/29406 [==============================] - 4s - loss: 0.1304 - acc: 0.9593 - val_loss: 0.0462 - val_acc: 0.9908\n",
      "Epoch 44/50\n",
      "29406/29406 [==============================] - 4s - loss: 0.1327 - acc: 0.9587 - val_loss: 0.0448 - val_acc: 0.9910\n",
      "Epoch 45/50\n",
      "29406/29406 [==============================] - 4s - loss: 0.1294 - acc: 0.9604 - val_loss: 0.0468 - val_acc: 0.9911\n",
      "Epoch 46/50\n",
      "29406/29406 [==============================] - 4s - loss: 0.1301 - acc: 0.9595 - val_loss: 0.0434 - val_acc: 0.9915\n",
      "Epoch 47/50\n",
      "29406/29406 [==============================] - 4s - loss: 0.1264 - acc: 0.9623 - val_loss: 0.0444 - val_acc: 0.9912\n",
      "Epoch 48/50\n",
      "29406/29406 [==============================] - 4s - loss: 0.1280 - acc: 0.9610 - val_loss: 0.0441 - val_acc: 0.9912\n",
      "Epoch 49/50\n",
      "29406/29406 [==============================] - 4s - loss: 0.1201 - acc: 0.9637 - val_loss: 0.0442 - val_acc: 0.9910\n",
      "Epoch 50/50\n",
      "29406/29406 [==============================] - 4s - loss: 0.1242 - acc: 0.9618 - val_loss: 0.0415 - val_acc: 0.9919\n",
      "[0.85677853721289643, 0.9150260124451699, 0.94664898500459038, 0.95552381923900842, 0.96103233703968172, 0.96694889319596045, 0.97062123839640924, 0.97215138222992958, 0.97623176581638516, 0.97847597674181375, 0.97857798633071513, 0.98133224523105167, 0.98143425481995306, 0.98102621646434762, 0.9829643986534734, 0.9841885137202897, 0.98429052330919109, 0.98551463837600739, 0.98449454248699375, 0.98531061919820462, 0.98612669590941548, 0.98684076303172497, 0.98612669590941548, 0.98816688768744265, 0.98816688768744265, 0.98877894522085075, 0.98735081097623179, 0.9878608589207386, 0.98939100275425895, 0.9878608589207386, 0.9866367438539223, 0.98918698357645618, 0.98877894522085075, 0.98979904110986427, 0.99000306028766705, 0.99000306028766705, 0.98979904110986427, 0.98908497398755479, 0.99061511782107514, 0.99061511782107514, 0.99041109864327248, 0.99061511782107514, 0.99081913699887791, 0.99102315617668058, 0.99112516576558196, 0.99153320412118739, 0.99122717535448335, 0.99122717535448335, 0.99102315617668058, 0.99194124247679283]\n"
     ]
    }
   ],
   "source": [
    "model = Sequential()\n",
    "\n",
    "model.add(Convolution2D(nb_filters, kernel_size[0], kernel_size[1],\n",
    "                        border_mode='valid',\n",
    "                        input_shape=input_shape))\n",
    "model.add(MaxPooling2D(pool_size=pool_size))\n",
    "model.add(Convolution2D(nb_filters, kernel_size[0], kernel_size[1],\n",
    "                        border_mode='valid',\n",
    "                        input_shape=input_shape))\n",
    "model.add(MaxPooling2D(pool_size=pool_size))\n",
    "model.add(Dropout(0.5))\n",
    "model.add(Flatten())\n",
    "model.add(Dense(128, input_dim=3072,activation=\"relu\",name=\"hidden1\"))\n",
    "model.add(Dropout(0.5))\n",
    "model.add(Dense(43,activation=\"softmax\",name=\"output\"))\n",
    "\n",
    "model.compile(optimizer=K_adam_opt, loss=\"categorical_crossentropy\",metrics=[\"accuracy\"])\n",
    "history = model.fit(X_train,y_train, nb_epoch=50, batch_size=64 ,validation_data=(X_val,y_val))\n",
    "print(history.history['val_acc'])"
   ]
  },
  {
   "cell_type": "markdown",
   "metadata": {},
   "source": [
    "**Best Validation Accuracy:** (fill in here)"
   ]
  },
  {
   "cell_type": "markdown",
   "metadata": {},
   "source": [
    "## Testing\n",
    "Once you've picked out your best model, it's time to test it.\n",
    "\n",
    "Load up the test data and use the [`evaluate()` method](https://keras.io/models/model/#evaluate) to see how well it does.\n",
    "\n",
    "Hint 1: After you load your test data, don't forget to normalize the input and one-hot encode the output, so it matches the training data.\n",
    "\n",
    "Hint 2: The `evaluate()` method should return an array of numbers. Use the `metrics_names()` method to get the labels."
   ]
  },
  {
   "cell_type": "code",
   "execution_count": 23,
   "metadata": {
    "collapsed": false
   },
   "outputs": [
    {
     "name": "stdout",
     "output_type": "stream",
     "text": [
      "12630/12630 [==============================] - 1s     \n",
      "Test score: 0.294277059278\n",
      "Test accuracy: 0.928424386401\n"
     ]
    }
   ],
   "source": [
    "with open('./test.p', mode='rb') as f:\n",
    "    test = pickle.load(f)\n",
    "    \n",
    "X_test = test['features']\n",
    "y_test = test['labels']\n",
    "X_test = X_test.astype('float32')\n",
    "X_test /= 255\n",
    "X_test -= 0.5\n",
    "Y_test = to_categorical(y_test, 43)\n",
    "\n",
    "score = model.evaluate(X_test, Y_test)\n",
    "print('Test score:', score[0])\n",
    "print('Test accuracy:', score[1])"
   ]
  },
  {
   "cell_type": "markdown",
   "metadata": {},
   "source": [
    "**Test Accuracy:** 92.48%\n"
   ]
  },
  {
   "cell_type": "markdown",
   "metadata": {},
   "source": [
    "## Summary\n",
    "Keras is a great tool to use if you want to quickly build a neural network and evaluate performance."
   ]
  }
 ],
 "metadata": {
  "anaconda-cloud": {},
  "hide_input": false,
  "kernelspec": {
   "display_name": "Python 3",
   "language": "python",
   "name": "python3"
  },
  "language_info": {
   "codemirror_mode": {
    "name": "ipython",
    "version": 3
   },
   "file_extension": ".py",
   "mimetype": "text/x-python",
   "name": "python",
   "nbconvert_exporter": "python",
   "pygments_lexer": "ipython3",
   "version": "3.4.3"
  }
 },
 "nbformat": 4,
 "nbformat_minor": 0
}
